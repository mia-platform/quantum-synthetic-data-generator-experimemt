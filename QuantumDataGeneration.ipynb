{
 "cells": [
  {
   "cell_type": "markdown",
   "id": "403ca080",
   "metadata": {},
   "source": [
    "# Quantum Synthetic Data Generation\n",
    "\n",
    "This notebook demonstrates how to generate synthetic data using quantum computing techniques with Q#. We'll create realistic datasets that can be used for machine learning, testing, and privacy-preserving analytics.\n",
    "\n",
    "## Key Features:\n",
    "- **Quantum Superposition**: Generate probabilistic data distributions\n",
    "- **Quantum Entanglement**: Create correlated features (e.g., age and income)\n",
    "- **Quantum Walks**: Advanced categorical data generation\n",
    "- **Variational Circuits**: Parameterized probability distributions\n",
    "- **Quantum Noise**: Data augmentation and privacy enhancement"
   ]
  },
  {
   "cell_type": "code",
   "execution_count": null,
   "id": "d60c07db",
   "metadata": {},
   "outputs": [],
   "source": [
    "import qsharp\n",
    "from qsharp_widgets import Circuit, Histogram\n",
    "import json\n",
    "import matplotlib.pyplot as plt\n",
    "import pandas as pd\n",
    "import numpy as np"
   ]
  },
  {
   "cell_type": "markdown",
   "id": "bc1fb32a",
   "metadata": {},
   "source": [
    "## Load the JSON Configuration\n",
    "\n",
    "First, let's examine our synthetic data configuration that defines the structure and characteristics of the data we want to generate."
   ]
  },
  {
   "cell_type": "code",
   "execution_count": null,
   "id": "eb67f8f7",
   "metadata": {},
   "outputs": [],
   "source": [
    "# Load the JSON configuration\n",
    "with open('sample_data.json', 'r') as f:\n",
    "    config = json.load(f)\n",
    "\n",
    "print(\"Data Generation Configuration:\")\n",
    "print(json.dumps(config, indent=2))"
   ]
  },
  {
   "cell_type": "markdown",
   "id": "75bdf7b7",
   "metadata": {},
   "source": [
    "## Basic Quantum Data Generation\n",
    "\n",
    "Let's start with our basic quantum synthetic data generator that creates correlated features using quantum entanglement."
   ]
  },
  {
   "cell_type": "code",
   "execution_count": null,
   "metadata": {
    "vscode": {
     "languageId": "qsharp"
    }
   },
   "outputs": [],
   "source": [
    "%%qsharp\n",
    "\n",
    "\"// This will load our GeneratorEntryPoint.qs file\\n\",\n",
    "        \"open GeneratorEntryPoint;\\n\",,\n",
    "\n",
    "// Run the basic quantum data generator\n",
    "operation RunBasicGenerator() : DataSample[] {\n",
    "    return GenerateQuantumSyntheticData();\n",
    "}"
   ]
  },
  {
   "cell_type": "code",
   "execution_count": null,
   "id": "0507d5cc",
   "metadata": {},
   "outputs": [],
   "source": [
    "# Generate basic synthetic data\n",
    "basic_samples = qsharp.run(\"RunBasicGenerator()\")\n",
    "print(f\"Generated {len(basic_samples)} basic samples\")\n",
    "\n",
    "# Display first few samples\n",
    "for i, sample in enumerate(basic_samples[:5]):\n",
    "    print(f\"Sample {i+1}: Age={sample['Age']}, Income=${sample['Income']:,}, Category={sample['Category']}, Flag={sample['BinaryFlag']}\")"
   ]
  },
  {
   "cell_type": "markdown",
   "id": "e70ee38e",
   "metadata": {},
   "source": [
    "## Advanced Quantum Data Generation\n",
    "\n",
    "Now let's use our advanced generator that includes quantum walks, variational circuits, and quantum fingerprinting."
   ]
  },
  {
   "cell_type": "code",
   "execution_count": null,
   "metadata": {
    "vscode": {
     "languageId": "qsharp"
    }
   },
   "outputs": [],
   "source": [
    "%%qsharp\n",
    "\n",
    "// Load the advanced generator\n",
    "open QuantumDataGenerator;\n",
    "\n",
    "// Run the advanced quantum data generator\n",
    "operation RunAdvancedGenerator() : QuantumDataSample[] {\n",
    "    return AdvancedQuantumDataGenerator();\n",
    "}"
   ]
  },
  {
   "cell_type": "code",
   "execution_count": null,
   "id": "020bfac6",
   "metadata": {},
   "outputs": [],
   "source": [
    "# Generate advanced synthetic data\n",
    "advanced_samples = qsharp.run(\"RunAdvancedGenerator()\")\n",
    "print(f\"Generated {len(advanced_samples)} advanced samples\")\n",
    "\n",
    "# Display first few samples with quantum fingerprints\n",
    "for i, sample in enumerate(advanced_samples[:5]):\n",
    "    fingerprint = ''.join(map(str, sample['QuantumFingerprint']))\n",
    "    print(f\"Sample {sample['Id']}: Age={sample['Age']}, Income=${sample['Income']:,}, \"\n",
    "          f\"Category={sample['Category']}, Flag={sample['BinaryFlag']}, QF={fingerprint}\")"
   ]
  },
  {
   "cell_type": "markdown",
   "id": "cbc09596",
   "metadata": {},
   "source": [
    "## Visualize the Quantum Circuit\n",
    "\n",
    "Let's examine the quantum circuit used for generating entangled age and income features."
   ]
  },
  {
   "cell_type": "code",
   "execution_count": null,
   "id": "d0c83a2f",
   "metadata": {},
   "outputs": [],
   "source": [
    "# Visualize the quantum circuit for entangled feature generation\n",
    "circuit_qsharp = \"\"\"\n",
    "operation VisualizeEntanglementCircuit() : Unit {\n",
    "    use qubits = Qubit[8];\n",
    "    \n",
    "    // Create Bell pairs for correlation\n",
    "    H(qubits[0]);\n",
    "    CNOT(qubits[0], qubits[4]);\n",
    "    \n",
    "    // Age generation circuit\n",
    "    H(qubits[1]);\n",
    "    H(qubits[2]);\n",
    "    H(qubits[3]);\n",
    "    \n",
    "    // Income generation circuit (entangled with age)\n",
    "    H(qubits[5]);\n",
    "    H(qubits[6]);\n",
    "    H(qubits[7]);\n",
    "    \n",
    "    // Add cross-correlations\n",
    "    CNOT(qubits[1], qubits[5]);\n",
    "    CNOT(qubits[2], qubits[6]);\n",
    "    \n",
    "    ResetAll(qubits);\n",
    "}\n",
    "\"\"\"\n",
    "\n",
    "# Generate and display the circuit\n",
    "circuit = qsharp.circuit(circuit_qsharp)\n",
    "Circuit(circuit)"
   ]
  },
  {
   "cell_type": "markdown",
   "id": "e0000291",
   "metadata": {},
   "source": [
    "## Data Analysis and Visualization\n",
    "\n",
    "Let's analyze the generated synthetic data and compare it with our target distributions."
   ]
  },
  {
   "cell_type": "code",
   "execution_count": null,
   "id": "2f3fcb79",
   "metadata": {},
   "outputs": [],
   "source": [
    "# Convert quantum samples to pandas DataFrame for analysis\n",
    "df_basic = pd.DataFrame(basic_samples)\n",
    "df_advanced = pd.DataFrame(advanced_samples)\n",
    "\n",
    "print(\"Basic Generator Statistics:\")\n",
    "print(df_basic.describe())\n",
    "print(\"\\nAdvanced Generator Statistics:\")\n",
    "print(df_advanced.describe())"
   ]
  },
  {
   "cell_type": "code",
   "execution_count": null,
   "id": "cbf7a3cf",
   "metadata": {},
   "outputs": [],
   "source": [
    "# Create visualization plots\n",
    "fig, axes = plt.subplots(2, 3, figsize=(15, 10))\n",
    "fig.suptitle('Quantum Synthetic Data Analysis', fontsize=16)\n",
    "\n",
    "# Age distribution\n",
    "axes[0,0].hist(df_basic['Age'], bins=15, alpha=0.7, label='Basic', color='blue')\n",
    "axes[0,0].hist(df_advanced['Age'], bins=15, alpha=0.7, label='Advanced', color='red')\n",
    "axes[0,0].set_title('Age Distribution')\n",
    "axes[0,0].set_xlabel('Age')\n",
    "axes[0,0].set_ylabel('Frequency')\n",
    "axes[0,0].legend()\n",
    "\n",
    "# Income distribution\n",
    "axes[0,1].hist(df_basic['Income'], bins=15, alpha=0.7, label='Basic', color='blue')\n",
    "axes[0,1].hist(df_advanced['Income'], bins=15, alpha=0.7, label='Advanced', color='red')\n",
    "axes[0,1].set_title('Income Distribution')\n",
    "axes[0,1].set_xlabel('Income ($)')\n",
    "axes[0,1].set_ylabel('Frequency')\n",
    "axes[0,1].legend()\n",
    "\n",
    "# Category distribution\n",
    "category_counts_basic = df_basic['Category'].value_counts()\n",
    "category_counts_advanced = df_advanced['Category'].value_counts()\n",
    "categories = ['A', 'B', 'C', 'D']\n",
    "x = np.arange(len(categories))\n",
    "width = 0.35\n",
    "\n",
    "axes[0,2].bar(x - width/2, [category_counts_basic.get(cat, 0) for cat in categories], \n",
    "             width, label='Basic', color='blue', alpha=0.7)\n",
    "axes[0,2].bar(x + width/2, [category_counts_advanced.get(cat, 0) for cat in categories], \n",
    "             width, label='Advanced', color='red', alpha=0.7)\n",
    "axes[0,2].set_title('Category Distribution')\n",
    "axes[0,2].set_xlabel('Category')\n",
    "axes[0,2].set_ylabel('Count')\n",
    "axes[0,2].set_xticks(x)\n",
    "axes[0,2].set_xticklabels(categories)\n",
    "axes[0,2].legend()\n",
    "\n",
    "# Age vs Income correlation\n",
    "axes[1,0].scatter(df_basic['Age'], df_basic['Income'], alpha=0.7, label='Basic', color='blue')\n",
    "axes[1,0].scatter(df_advanced['Age'], df_advanced['Income'], alpha=0.7, label='Advanced', color='red')\n",
    "axes[1,0].set_title('Age vs Income Correlation')\n",
    "axes[1,0].set_xlabel('Age')\n",
    "axes[1,0].set_ylabel('Income ($)')\n",
    "axes[1,0].legend()\n",
    "\n",
    "# Binary flag distribution\n",
    "flag_counts_basic = df_basic['BinaryFlag'].value_counts()\n",
    "flag_counts_advanced = df_advanced['BinaryFlag'].value_counts()\n",
    "flags = [True, False]\n",
    "x_flags = np.arange(len(flags))\n",
    "\n",
    "axes[1,1].bar(x_flags - width/2, [flag_counts_basic.get(flag, 0) for flag in flags], \n",
    "             width, label='Basic', color='blue', alpha=0.7)\n",
    "axes[1,1].bar(x_flags + width/2, [flag_counts_advanced.get(flag, 0) for flag in flags], \n",
    "             width, label='Advanced', color='red', alpha=0.7)\n",
    "axes[1,1].set_title('Binary Flag Distribution')\n",
    "axes[1,1].set_xlabel('Flag Value')\n",
    "axes[1,1].set_ylabel('Count')\n",
    "axes[1,1].set_xticks(x_flags)\n",
    "axes[1,1].set_xticklabels(['True', 'False'])\n",
    "axes[1,1].legend()\n",
    "\n",
    "# Quantum fingerprint visualization (for advanced samples)\n",
    "if len(df_advanced) > 0:\n",
    "    fingerprints = np.array([sample['QuantumFingerprint'] for sample in advanced_samples])\n",
    "    axes[1,2].imshow(fingerprints.T, cmap='Blues', aspect='auto')\n",
    "    axes[1,2].set_title('Quantum Fingerprints')\n",
    "    axes[1,2].set_xlabel('Sample ID')\n",
    "    axes[1,2].set_ylabel('Fingerprint Bit')\n",
    "else:\n",
    "    axes[1,2].text(0.5, 0.5, 'No Advanced Samples', ha='center', va='center')\n",
    "    axes[1,2].set_title('Quantum Fingerprints')\n",
    "\n",
    "plt.tight_layout()\n",
    "plt.show()"
   ]
  },
  {
   "cell_type": "markdown",
   "id": "ef7a1f85",
   "metadata": {},
   "source": [
    "## Quantum vs Classical Comparison\n",
    "\n",
    "Let's compare our quantum-generated data with classical random data to see the unique properties."
   ]
  },
  {
   "cell_type": "code",
   "execution_count": null,
   "id": "aed61d26",
   "metadata": {},
   "outputs": [],
   "source": [
    "# Generate classical random data for comparison\n",
    "np.random.seed(42)\n",
    "n_classical = len(df_advanced)\n",
    "\n",
    "classical_data = {\n",
    "    'Age': np.random.normal(40, 15, n_classical).astype(int),\n",
    "    'Income': np.random.exponential(30000, n_classical).astype(int) + 20000,\n",
    "    'Category': np.random.choice(['A', 'B', 'C', 'D'], n_classical, p=[0.4, 0.3, 0.2, 0.1]),\n",
    "    'BinaryFlag': np.random.choice([True, False], n_classical, p=[0.7, 0.3])\n",
    "}\n",
    "\n",
    "# Clamp values to realistic ranges\n",
    "classical_data['Age'] = np.clip(classical_data['Age'], 18, 80)\n",
    "classical_data['Income'] = np.clip(classical_data['Income'], 20000, 150000)\n",
    "\n",
    "df_classical = pd.DataFrame(classical_data)\n",
    "\n",
    "print(\"Correlation Analysis:\")\n",
    "print(f\"Quantum Age-Income Correlation: {df_advanced['Age'].corr(df_advanced['Income']):.3f}\")\n",
    "print(f\"Classical Age-Income Correlation: {df_classical['Age'].corr(df_classical['Income']):.3f}\")\n",
    "\n",
    "# Visualize the comparison\n",
    "fig, axes = plt.subplots(1, 2, figsize=(12, 5))\n",
    "\n",
    "axes[0].scatter(df_advanced['Age'], df_advanced['Income'], alpha=0.7, color='red', label='Quantum')\n",
    "axes[0].set_title('Quantum Generated: Age vs Income')\n",
    "axes[0].set_xlabel('Age')\n",
    "axes[0].set_ylabel('Income ($)')\n",
    "\n",
    "axes[1].scatter(df_classical['Age'], df_classical['Income'], alpha=0.7, color='blue', label='Classical')\n",
    "axes[1].set_title('Classical Random: Age vs Income')\n",
    "axes[1].set_xlabel('Age')\n",
    "axes[1].set_ylabel('Income ($)')\n",
    "\n",
    "plt.tight_layout()\n",
    "plt.show()"
   ]
  },
  {
   "cell_type": "markdown",
   "id": "b7a76a60",
   "metadata": {},
   "source": [
    "## Export Generated Data\n",
    "\n",
    "Finally, let's export our quantum-generated synthetic data for use in machine learning or other applications."
   ]
  },
  {
   "cell_type": "code",
   "execution_count": null,
   "id": "8e772db7",
   "metadata": {},
   "outputs": [],
   "source": [
    "# Export to CSV files\n",
    "df_basic.to_csv('quantum_basic_data.csv', index=False)\n",
    "df_advanced.to_csv('quantum_advanced_data.csv', index=False)\n",
    "df_classical.to_csv('classical_random_data.csv', index=False)\n",
    "\n",
    "print(\"Data exported successfully!\")\n",
    "print(f\"- Basic quantum data: {len(df_basic)} samples\")\n",
    "print(f\"- Advanced quantum data: {len(df_advanced)} samples\")\n",
    "print(f\"- Classical random data: {len(df_classical)} samples\")\n",
    "\n",
    "# Create a summary report\n",
    "summary = {\n",
    "    \"generation_method\": \"quantum_superposition_entanglement\",\n",
    "    \"total_samples\": len(df_advanced),\n",
    "    \"features\": {\n",
    "        \"age\": {\n",
    "            \"type\": \"numeric\",\n",
    "            \"range\": [int(df_advanced['Age'].min()), int(df_advanced['Age'].max())],\n",
    "            \"mean\": float(df_advanced['Age'].mean()),\n",
    "            \"std\": float(df_advanced['Age'].std())\n",
    "        },\n",
    "        \"income\": {\n",
    "            \"type\": \"numeric\", \n",
    "            \"range\": [int(df_advanced['Income'].min()), int(df_advanced['Income'].max())],\n",
    "            \"mean\": float(df_advanced['Income'].mean()),\n",
    "            \"std\": float(df_advanced['Income'].std())\n",
    "        },\n",
    "        \"category\": {\n",
    "            \"type\": \"categorical\",\n",
    "            \"values\": df_advanced['Category'].value_counts().to_dict()\n",
    "        },\n",
    "        \"binary_flag\": {\n",
    "            \"type\": \"binary\",\n",
    "            \"true_percentage\": float(df_advanced['BinaryFlag'].mean() * 100)\n",
    "        }\n",
    "    },\n",
    "    \"quantum_properties\": {\n",
    "        \"entanglement_used\": True,\n",
    "        \"superposition_used\": True,\n",
    "        \"quantum_walks_used\": True,\n",
    "        \"variational_circuits_used\": True,\n",
    "        \"quantum_fingerprints\": True\n",
    "    }\n",
    "}\n",
    "\n",
    "with open('quantum_data_summary.json', 'w') as f:\n",
    "    json.dump(summary, f, indent=2)\n",
    "\n",
    "print(\"\\nGeneration Summary:\")\n",
    "print(json.dumps(summary, indent=2))"
   ]
  },
  {
   "cell_type": "markdown",
   "id": "f05e6500",
   "metadata": {},
   "source": [
    "## Conclusion\n",
    "\n",
    "This quantum synthetic data generator demonstrates several advantages over classical approaches:\n",
    "\n",
    "1. **Natural Correlations**: Quantum entanglement creates realistic feature correlations (age-income dependency)\n",
    "2. **Rich Distributions**: Quantum superposition enables complex probability distributions\n",
    "3. **Authenticity**: Quantum fingerprints provide data provenance and authenticity verification\n",
    "4. **Privacy**: Quantum noise can enhance privacy preservation\n",
    "5. **Scalability**: Quantum algorithms can generate large datasets efficiently\n",
    "\n",
    "The generated data can be used for:\n",
    "- Machine learning model training and testing\n",
    "- Privacy-preserving analytics\n",
    "- Database testing and development\n",
    "- Research and academic studies\n",
    "\n",
    "This approach opens new possibilities for synthetic data generation that leverages the unique properties of quantum computing."
   ]
  }
 ],
 "metadata": {
  "language_info": {
   "name": "python"
  }
 },
 "nbformat": 4,
 "nbformat_minor": 5
}
